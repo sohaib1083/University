{
  "nbformat": 4,
  "nbformat_minor": 0,
  "metadata": {
    "colab": {
      "name": "21k-3278",
      "provenance": []
    },
    "kernelspec": {
      "name": "python3",
      "display_name": "Python 3"
    },
    "language_info": {
      "name": "python"
    }
  },
  "cells": [
    {
      "cell_type": "markdown",
      "source": [
        "#1. Write a Python program to check the characters of your Sir name match with\n",
        "#last chars of your friend name."
      ],
      "metadata": {
        "id": "i3_MMHU84zS_"
      }
    },
    {
      "cell_type": "code",
      "execution_count": 3,
      "metadata": {
        "colab": {
          "base_uri": "https://localhost:8080/"
        },
        "id": "K8Fq4pD14yIT",
        "outputId": "db7af667-28f6-4cf4-a5eb-32b9a07702a8"
      },
      "outputs": [
        {
          "output_type": "stream",
          "name": "stdout",
          "text": [
            "first character of my sir name does not match with my sir name\n"
          ]
        }
      ],
      "source": [
        "import numpy as np\n",
        "np.sir_name= \"Shamsi\"\n",
        "np.frnd_name=\"Xabad\"\n",
        "\n",
        "x = len(np.frnd_name)\n",
        "\n",
        "flag=0\n",
        "for i in range(0,4):\n",
        "  if np.sir_name[0] == np.frnd_name[x-1]:\n",
        "    flag=1\n",
        "if flag == 1 :\n",
        "  print(\"first character of my sir name matches with my sir name\")\n",
        "else:\n",
        "  print(\"first character of my sir name does not match with my sir name\")\n"
      ]
    },
    {
      "cell_type": "markdown",
      "source": [
        "#2.\tCreate a dictionary with keys are Family member names (at least 4 members) and values are the total no of characters of the names. e.g   {Anabia: 6,….}  \n"
      ],
      "metadata": {
        "id": "evkTN9tC7ABt"
      }
    },
    {
      "cell_type": "code",
      "source": [
        "seq_dict = {x: len(x) for x in (\"Sohaib\", \"Zohair\", \"Aayan\", \"Nausheen\")}\n",
        "print(seq_dict)"
      ],
      "metadata": {
        "colab": {
          "base_uri": "https://localhost:8080/"
        },
        "id": "C2HMwvh_5Oxz",
        "outputId": "07ef3fe7-5e59-4331-ea2a-dd3d12cfe768"
      },
      "execution_count": 7,
      "outputs": [
        {
          "output_type": "stream",
          "name": "stdout",
          "text": [
            "{'Sohaib': 6, 'Zohair': 6, 'Aayan': 5, 'Nausheen': 8}\n"
          ]
        }
      ]
    },
    {
      "cell_type": "markdown",
      "source": [
        "#3.\tWrite a function ResultantAmplitude() such that it can accept four  variables (amplitude, phase constant) and return resultant amplitude in a single call with print the types of interference e.g  Constructive , Destructive, intermediate interference ) \n",
        "Resultant amplitude is Ym’  = ym Cos (φ/2)\n",
        " (Hint :   Output look like :    Ym =…..   :  Constructive interference) \n"
      ],
      "metadata": {
        "id": "DZgjR0JH8Nhm"
      }
    },
    {
      "cell_type": "code",
      "source": [
        "import math as m\n",
        "def ResultantAmplitude(a,n,w,t,p):\n",
        "    x= float(a*m.sin(m.radians((n*p)-(w*t))))\n",
        "    # v= float((-a*w)*m.sin((w*t)+p))\n",
        "    # ac= float((a*w*w)*m.cos((w*t)+p))\n",
        "    lamb=(2*m.pi)/n\n",
        "    print(lamb)\n",
        "    freq=w/(2*m.pi)\n",
        "    print(freq)\n",
        "    v=lamb*freq\n",
        "    return x,v\n",
        "amp=int(input(\"Enter amplitude: \"))\n",
        "n=int(input(\"Enter wave number: \"))\n",
        "w=float(input(\"Enter Angular frequency: \"))\n",
        "t=int(input(\"Enter time: \"))\n",
        "\n",
        "disp,vel=ResultantAmplitude(amp,n,w,t,p)\n"
      ],
      "metadata": {
        "id": "K9WgR7P27jps"
      },
      "execution_count": null,
      "outputs": []
    },
    {
      "cell_type": "markdown",
      "source": [
        "#4.\tWrite a function Angle() such that it accept a vector A = Axi + Ay j + Azk  and return the angle between the vector and the x, y,and z axes, respectively( α, β, γ). "
      ],
      "metadata": {
        "id": "7Oev-qXX8XGV"
      }
    },
    {
      "cell_type": "code",
      "source": [
        "import math as m\n",
        "\n",
        "\n",
        "def angle(a,b,c):\n",
        "  A=np.array([a,b,c])\n",
        "  i=np.array([1,0,0])\n",
        "  j=np.array([0,1,0])\n",
        "  k=np.array([0,0,1])\n",
        "  A_i=m.acos(np.dot(A,i)/np.linalg.norm(A))*180/m.pi\n",
        "  A_j=m.acos(np.dot(A,j)/np.linalg.norm(A))*180/m.pi\n",
        "  A_k=m.acos(np.dot(A,k)/np.linalg.norm(A))*180/m.pi\n",
        "  return A_i,A_j,A_k\n",
        "i=int(input(\"i: \"))\n",
        "j=int(input(\"j: \"))\n",
        "k=int(input(\"k: \"))\n",
        "a1,a2,a3=angle(i,j,k)\n",
        "print(\"Angle between Vector and x axis:\",a1,\"\\nAngle between Vector and y axis:\",a2,\"\\nAngle between Vector and z axis:\",a3)"
      ],
      "metadata": {
        "colab": {
          "base_uri": "https://localhost:8080/"
        },
        "id": "5n92cTPL8dYd",
        "outputId": "58cc15e2-08d8-4af6-e187-e8db8cf9ab58"
      },
      "execution_count": 11,
      "outputs": [
        {
          "output_type": "stream",
          "name": "stdout",
          "text": [
            "i: 1\n",
            "j: 2\n",
            "k: 3\n",
            "Angle between Vector and x axis: 74.498640433063 \n",
            "Angle between Vector and y axis: 57.68846676257615 \n",
            "Angle between Vector and z axis: 36.69922520048988\n"
          ]
        }
      ]
    },
    {
      "cell_type": "markdown",
      "source": [
        "#5.\tDo the problem in python code: \n",
        "#The position vector of a particle is given by  \n",
        "               x =  2t3 - 7t + 7t4  ,\n",
        "#2where “x” is in meter and “t” is in second. Find an expression for the velocity(v) and acceleration(a) as a function of time. Also plot the graph t verse x , v, and a on same graph.  \n"
      ],
      "metadata": {
        "id": "LPO278f68fD0"
      }
    },
    {
      "cell_type": "code",
      "source": [
        "x=(2*t**3 + 7*t + 7*t**4)\n",
        "\n",
        "v=(2*3*t**2 + 7 + 7*4*t**3)\n",
        "v"
      ],
      "metadata": {
        "colab": {
          "base_uri": "https://localhost:8080/",
          "height": 38
        },
        "id": "OW7rq5vZ8sfJ",
        "outputId": "0aa784ec-7f8e-4df1-f1d4-7220a36458fe"
      },
      "execution_count": 17,
      "outputs": [
        {
          "output_type": "execute_result",
          "data": {
            "text/latex": "$\\displaystyle 28 t^{3} + 6 t^{2} + 7$",
            "text/plain": [
              "28*t**3 + 6*t**2 + 7"
            ]
          },
          "metadata": {},
          "execution_count": 17
        }
      ]
    },
    {
      "cell_type": "code",
      "source": [
        "a=(12*t + 28*3*t**2)\n",
        "a"
      ],
      "metadata": {
        "colab": {
          "base_uri": "https://localhost:8080/",
          "height": 38
        },
        "id": "LYXiOQIM-C3Q",
        "outputId": "a9ccda04-4120-4219-d2ee-e7da44c7e521"
      },
      "execution_count": 16,
      "outputs": [
        {
          "output_type": "execute_result",
          "data": {
            "text/latex": "$\\displaystyle 84 t^{2} + 12 t$",
            "text/plain": [
              "84*t**2 + 12*t"
            ]
          },
          "metadata": {},
          "execution_count": 16
        }
      ]
    },
    {
      "cell_type": "code",
      "source": [
        "import matplotlib.pyplot as plt\n",
        "t = np.arange(0, 1, 2)\n",
        "x=(2*t**2 -7*t + 7*t**4)\n",
        "v=(28*t**3 +4*t - 7)\n",
        "a=(84*t**2 + 4)\n",
        "plt.plot(t,v)\n",
        "plt.plot(t,x)\n",
        "plt.plot(t,a)\n"
      ],
      "metadata": {
        "colab": {
          "base_uri": "https://localhost:8080/",
          "height": 282
        },
        "id": "QNzprqYqA4nI",
        "outputId": "21eef8d5-60de-4384-bc29-9e0e71f0322e"
      },
      "execution_count": 26,
      "outputs": [
        {
          "output_type": "execute_result",
          "data": {
            "text/plain": [
              "[<matplotlib.lines.Line2D at 0x7f395260b950>]"
            ]
          },
          "metadata": {},
          "execution_count": 26
        },
        {
          "output_type": "display_data",
          "data": {
            "image/png": "[encoded data removed]",
            "text/plain": [
              "<Figure size 432x288 with 1 Axes>"
            ]
          },
          "metadata": {
            "needs_background": "light"
          }
        }
      ]
    },
    {
      "cell_type": "code",
      "source": [
        ""
      ],
      "metadata": {
        "id": "Cihb33ykBLGc"
      },
      "execution_count": null,
      "outputs": []
    }
  ]
}