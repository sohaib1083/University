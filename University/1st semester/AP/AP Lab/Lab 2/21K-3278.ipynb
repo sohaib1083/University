{
 "cells": [
  {
   "cell_type": "markdown",
   "id": "7c08cdd5",
   "metadata": {},
   "source": [
    "# Question 1:\n",
    "Write a Python script to print a dictionary (name: dict1) where the keys are numbers\n",
    "between 1 and 10 (both included) and the values are square of keys."
   ]
  },
  {
   "cell_type": "code",
   "execution_count": 10,
   "id": "a2d14402",
   "metadata": {},
   "outputs": [
    {
     "data": {
      "text/plain": [
       "{1: 1, 2: 4, 3: 9, 4: 16, 5: 25, 6: 36, 7: 49, 8: 64, 9: 81, 10: 100}"
      ]
     },
     "execution_count": 10,
     "metadata": {},
     "output_type": "execute_result"
    }
   ],
   "source": [
    "dict1={}\n",
    "for x in range(1,11):\n",
    "    dict1.update({x : x**2})\n",
    "dict1"
   ]
  },
  {
   "cell_type": "markdown",
   "id": "f0689c52",
   "metadata": {},
   "source": [
    "# Question 2:\n",
    "Below are the two list convert it into a dictionary (name: dict2).\n",
    "Keys = [‘One’, ‘Two’, ‘Three’, ‘Four’, ‘Five’]\n",
    "Values = [10, 20, 30, 40, 50 ]"
   ]
  },
  {
   "cell_type": "code",
   "execution_count": 11,
   "id": "88af9ab0",
   "metadata": {},
   "outputs": [
    {
     "data": {
      "text/plain": [
       "{'One': 10, 'Two': 20, 'Three': 30, 'Four': 40, 'Five': 50}"
      ]
     },
     "execution_count": 11,
     "metadata": {},
     "output_type": "execute_result"
    }
   ],
   "source": [
    "dict2={}\n",
    "keys = ['One', 'Two', 'Three', 'Four','Five']\n",
    "values = [10, 20, 30, 40, 50 ]\n",
    "for x in range(5):\n",
    "    dict2.update({keys[x]:values[x]})\n",
    "dict2"
   ]
  },
  {
   "cell_type": "markdown",
   "id": "87829d5e",
   "metadata": {},
   "source": [
    "# Question 3:\n",
    "Merge above two Python dictionaries (dict1 and dict2) into one (name: dict_merg)."
   ]
  },
  {
   "cell_type": "code",
   "execution_count": 12,
   "id": "27472024",
   "metadata": {},
   "outputs": [
    {
     "data": {
      "text/plain": [
       "{1: 1,\n",
       " 2: 4,\n",
       " 3: 9,\n",
       " 4: 16,\n",
       " 5: 25,\n",
       " 6: 36,\n",
       " 7: 49,\n",
       " 8: 64,\n",
       " 9: 81,\n",
       " 10: 100,\n",
       " 'One': 10,\n",
       " 'Two': 20,\n",
       " 'Three': 30,\n",
       " 'Four': 40,\n",
       " 'Five': 50}"
      ]
     },
     "execution_count": 12,
     "metadata": {},
     "output_type": "execute_result"
    }
   ],
   "source": [
    "dict_merge = dict1.copy()\n",
    "dict_merge.update(dict2)\n",
    "dict_merge"
   ]
  },
  {
   "cell_type": "markdown",
   "id": "c05b9a36",
   "metadata": {},
   "source": [
    "# Question 4:\n",
    "Considering a dictionary (dict1), write a Python script to check whether a given key (taking\n",
    "as any input) already exists in a dictionary or not (use if/else conditions).\n",
    "Output will be like:\n",
    "Key is present in the dictionary. OR\n",
    "Key is not present in the dictionary"
   ]
  },
  {
   "cell_type": "code",
   "execution_count": 13,
   "id": "f1960ee2",
   "metadata": {},
   "outputs": [
    {
     "name": "stdout",
     "output_type": "stream",
     "text": [
      "Please enter the key you want to check wheather it is present or not in the above dictionary: Uni\n",
      "The key is present in the dictionary\n"
     ]
    }
   ],
   "source": [
    "dict3={'Name':'Sohaib', 'Uni':'FAST', 'Batch':'2021', 'Section':'E'}\n",
    "var = input(\"Please enter the key you want to check wheather it is present or not in the above dictionary: \")\n",
    "if (var=='Name' or var=='Uni' or var=='Batch' or var=='Section'):\n",
    "    print(\"The key is present in the dictionary\")\n",
    "else:\n",
    "    print(\"The key is not present in the dictionary\")"
   ]
  },
  {
   "cell_type": "markdown",
   "id": "6fbecc01",
   "metadata": {},
   "source": [
    "# #Question 5:\n",
    "Create a new dictionary by extracting the following keys from a given dictionary sample\n",
    "Dict = { &quot;name&quot;: &quot;Kelly&quot;, &quot;age&quot;:25, &quot;salary&quot;: 8000, &quot;city&quot;: &quot;New york&quot; }\n",
    "Keys to extract: keys = [‘name’, ‘salary’]\n",
    "Expected output:\n",
    "{&#39;name&#39;: &#39;Kelly&#39;, &#39;salary&#39;: 8000}"
   ]
  },
  {
   "cell_type": "code",
   "execution_count": 14,
   "id": "ec679c33",
   "metadata": {},
   "outputs": [
    {
     "name": "stdout",
     "output_type": "stream",
     "text": [
      "The given dictionary is:  {'name': 'Kelly', 'age': '25', 'salary': '8000', 'city': 'New york'}\n",
      "The dictionary after extraction is:  {'name': 'Kelly', 'salary': '8000'}\n"
     ]
    }
   ],
   "source": [
    "dict4={ \"name\": \"Kelly\", \"age\": \"25\", \"salary\": \"8000\", \"city\": \"New york\" }\n",
    "print(\"The given dictionary is: \",dict4)\n",
    "del dict4[\"age\"]\n",
    "del dict4[\"city\"]\n",
    "print(\"The dictionary after extraction is: \",dict4)"
   ]
  },
  {
   "cell_type": "markdown",
   "id": "20c87d01",
   "metadata": {},
   "source": [
    "# Question 6:\n",
    "Delete set of keys from Python Dictionary and keys To Remove = [&quot;name&quot;, &quot;salary&quot;]"
   ]
  },
  {
   "cell_type": "code",
   "execution_count": 15,
   "id": "90b3c99d",
   "metadata": {},
   "outputs": [
    {
     "data": {
      "text/plain": [
       "{'age': '25', 'city': 'New york'}"
      ]
     },
     "execution_count": 15,
     "metadata": {},
     "output_type": "execute_result"
    }
   ],
   "source": [
    "dict4={ \"name\": \"Kelly\", \"age\": \"25\", \"salary\": \"8000\", \"city\": \"New york\" }\n",
    "del dict4[\"name\"]\n",
    "del dict4[\"salary\"]\n",
    "dict4"
   ]
  },
  {
   "cell_type": "markdown",
   "id": "409adca9",
   "metadata": {},
   "source": [
    "# Question 7:\n",
    "*Display the cube of the number up to a given integer."
   ]
  },
  {
   "cell_type": "code",
   "execution_count": 17,
   "id": "53e587e9",
   "metadata": {},
   "outputs": [
    {
     "name": "stdout",
     "output_type": "stream",
     "text": [
      "Enter the number : 3\n",
      "The cube of  3 is 27\n"
     ]
    }
   ],
   "source": [
    "N=int(input(\"Enter the number : \"))\n",
    "ans = N**3\n",
    "print(\"The cube of \",N, \"is\",ans )"
   ]
  },
  {
   "cell_type": "markdown",
   "id": "d7464c64",
   "metadata": {},
   "source": [
    "# Question 8:\n",
    "Display -10 to -1 using for loop."
   ]
  },
  {
   "cell_type": "code",
   "execution_count": 18,
   "id": "9c145ce8",
   "metadata": {},
   "outputs": [
    {
     "name": "stdout",
     "output_type": "stream",
     "text": [
      "-10\n",
      "-9\n",
      "-8\n",
      "-7\n",
      "-6\n",
      "-5\n",
      "-4\n",
      "-3\n",
      "-2\n",
      "-1\n"
     ]
    }
   ],
   "source": [
    "for x in range(-10,0):\n",
    "    print(x)"
   ]
  },
  {
   "cell_type": "markdown",
   "id": "8c211696",
   "metadata": {},
   "source": [
    "# Question 9:\n",
    "Check if a value 200 exists in a dictionary.\n",
    "sampleDict = {&#39;a&#39;: 100, &#39;b&#39;: 200, &#39;c&#39;: 300}"
   ]
  },
  {
   "cell_type": "code",
   "execution_count": 19,
   "id": "b14eefc0",
   "metadata": {},
   "outputs": [
    {
     "name": "stdout",
     "output_type": "stream",
     "text": [
      "The value is present in dictionary\n"
     ]
    }
   ],
   "source": [
    "dict5={'a':100,'b':200,'c':300,'d':340}\n",
    "V=200\n",
    "if V in dict5.values():\n",
    "    print(\"The value is present in dictionary\")\n",
    "else:\n",
    "    print(\"The value is not present in dictionary\")"
   ]
  },
  {
   "cell_type": "markdown",
   "id": "686a1a6c",
   "metadata": {},
   "source": [
    "# Question 10:\n",
    "Print First 10 natural numbers using while loop. Print the following pattern\n",
    "\n",
    "1\n",
    "1 2\n",
    "1 2 3\n",
    "1 2 3 4\n",
    "1 2 3 4 5"
   ]
  },
  {
   "cell_type": "code",
   "execution_count": 20,
   "id": "76130a33",
   "metadata": {},
   "outputs": [
    {
     "name": "stdout",
     "output_type": "stream",
     "text": [
      "1\n",
      "2\n",
      "3\n",
      "4\n",
      "5\n",
      "6\n",
      "7\n",
      "8\n",
      "9\n",
      "10\n"
     ]
    }
   ],
   "source": [
    "i = 1\n",
    "while(i<=10):\n",
    "    print(i)\n",
    "    i = i + 1"
   ]
  },
  {
   "cell_type": "code",
   "execution_count": 21,
   "id": "083a6261",
   "metadata": {},
   "outputs": [
    {
     "name": "stdout",
     "output_type": "stream",
     "text": [
      "1 \n",
      "1 2 \n",
      "1 2 3 \n",
      "1 2 3 4 \n",
      "1 2 3 4 5 \n"
     ]
    }
   ],
   "source": [
    "\n",
    "i=1\n",
    "while(i<=5):\n",
    "    j=1\n",
    "    while(j<=i):\n",
    "        print(j, end=\" \")\n",
    "        j=j+1\n",
    "    print()\n",
    "    i=i+1"
   ]
  },
  {
   "cell_type": "code",
   "execution_count": null,
   "id": "c73893eb",
   "metadata": {},
   "outputs": [],
   "source": []
  }
 ],
 "metadata": {
  "kernelspec": {
   "display_name": "Python 3",
   "language": "python",
   "name": "python3"
  },
  "language_info": {
   "codemirror_mode": {
    "name": "ipython",
    "version": 3
   },
   "file_extension": ".py",
   "mimetype": "text/x-python",
   "name": "python",
   "nbconvert_exporter": "python",
   "pygments_lexer": "ipython3",
   "version": "3.8.8"
  }
 },
 "nbformat": 4,
 "nbformat_minor": 5
}
