{
 "cells": [
  {
   "cell_type": "markdown",
   "id": "bca3fdd9",
   "metadata": {},
   "source": [
    "# Question 1:\n",
    "## Write a function Calculation () such that it can accept two variables and calculate the addition and subtraction of it. And also it must return both addition and subtraction in a single return call"
   ]
  },
  {
   "cell_type": "code",
   "execution_count": 20,
   "id": "424472cb",
   "metadata": {},
   "outputs": [
    {
     "data": {
      "text/plain": [
       "(7, -1)"
      ]
     },
     "execution_count": 20,
     "metadata": {},
     "output_type": "execute_result"
    }
   ],
   "source": [
    "def Calculation(a,b):\n",
    "    return a+b,a-b\n",
    "c = Calculation(3,4)\n",
    "c\n",
    "\n",
    "\n",
    "    \n"
   ]
  },
  {
   "cell_type": "markdown",
   "id": "8633bd16",
   "metadata": {},
   "source": [
    "# Question 2:\n",
    "## Write a function Projectile () such that it can accept two variables initial velocity and angle and calculate the Maximum Height and Range of projectile. And also it must return both Maximum Height and Range in a single return call. Also plot the graph of Maximum Height and Range with respect to angle from 0 to 360 degree using matplotlib."
   ]
  },
  {
   "cell_type": "code",
   "execution_count": 31,
   "id": "58d1a9ef",
   "metadata": {},
   "outputs": [],
   "source": [
    "import math as m\n",
    "import matplotlib.pyplot as plt\n",
    "def Projectile(v,angle):\n",
    "    r = ((v**2)*(m.sin(angle))*(m.sin(angle)))/2*9.8\n",
    "    h = ((v**2)*(m.sin(2*angle)))/9.8\n",
    "    return r,h"
   ]
  },
  {
   "cell_type": "code",
   "execution_count": 44,
   "id": "c2b2660f",
   "metadata": {},
   "outputs": [
    {
     "name": "stdout",
     "output_type": "stream",
     "text": [
      "The maximum range and height of projectile is:(88.69450898791168, 2.2806037336748926)\n"
     ]
    },
    {
     "data": {
      "image/png": "[encoded data removed]",
      "text/plain": [
       "<Figure size 432x288 with 1 Axes>"
      ]
     },
     "metadata": {
      "needs_background": "light"
     },
     "output_type": "display_data"
    }
   ],
   "source": [
    "print(\"The maximum range and height of projectile is:\" +str(Projectile(5,45)))\n",
    "import matplotlib.pyplot as plt\n",
    "%matplotlib inline\n",
    "plt.plot([str(Projectile(5,45))])\n",
    "plt.show()\n"
   ]
  },
  {
   "cell_type": "markdown",
   "id": "8f9ffcdd",
   "metadata": {},
   "source": [
    "# Question 3:\n",
    "## Write a function SHM() such that it can accept four variables (amplitude , angular frequency , phase constant , time ) and return displacement , velocity ,and acceleration in a single call. \n",
    "## x = xm Cos (ɷt + φ)\n",
    "## v = - xm ɷ Sin (ɷt + φ)\n",
    "## a = xm ɷ 2 Cos (ɷt + φ)\n",
    "## Also plot the graph of displacement, velocity, and acceleration of SHM with respect of time (set time according to your choice)."
   ]
  },
  {
   "cell_type": "code",
   "execution_count": 71,
   "id": "ca90f2f9",
   "metadata": {},
   "outputs": [],
   "source": [
    "import math as m\n",
    "\n",
    "def SHM(A,AF,PC,T):\n",
    "    x = A*m.cos((AF*T)+PC) \n",
    "    v = -A*AF*(m.sin((AF*T)+PC))\n",
    "    a = A*AF*2*m.cos((AF*T)+PC)\n",
    "\n",
    "    return x,v,a\n"
   ]
  },
  {
   "cell_type": "code",
   "execution_count": 73,
   "id": "e26272f4",
   "metadata": {},
   "outputs": [
    {
     "data": {
      "text/plain": [
       "[<matplotlib.lines.Line2D at 0x14af29482e0>,\n",
       " <matplotlib.lines.Line2D at 0x14af29483a0>,\n",
       " <matplotlib.lines.Line2D at 0x14af2948460>]"
      ]
     },
     "execution_count": 73,
     "metadata": {},
     "output_type": "execute_result"
    },
    {
     "data": {
      "image/png": "[encoded data removed]",
      "text/plain": [
       "<Figure size 432x288 with 1 Axes>"
      ]
     },
     "metadata": {
      "needs_background": "light"
     },
     "output_type": "display_data"
    }
   ],
   "source": [
    "SHM(10,20,30,40)\n",
    "import matplotlib.pyplot as plt\n",
    "%matplotlib inline\n",
    "plt.plot([SHM(10,20,30,40)],[(2,3,4)])"
   ]
  },
  {
   "cell_type": "markdown",
   "id": "e9abd216",
   "metadata": {},
   "source": [
    "# Question 4:\n",
    "## Create a 5X2 integer array from a range between 100 to 200 such that the difference between each element is 10."
   ]
  },
  {
   "cell_type": "code",
   "execution_count": 79,
   "id": "fe210ea1",
   "metadata": {},
   "outputs": [
    {
     "data": {
      "text/plain": [
       "array([[100, 110],\n",
       "       [120, 130],\n",
       "       [140, 150],\n",
       "       [160, 170],\n",
       "       [180, 190]])"
      ]
     },
     "execution_count": 79,
     "metadata": {},
     "output_type": "execute_result"
    }
   ],
   "source": [
    "import numpy as np\n",
    "array = np.arange(100,200,10)\n",
    "array = array.reshape(5,2)\n",
    "array"
   ]
  },
  {
   "cell_type": "markdown",
   "id": "eb6d7654",
   "metadata": {},
   "source": [
    "# Question 5:\n",
    "## Following is the input NumPy array delete column two and insert following new column in its place.\n",
    "## import numpy\n",
    "## sampleArray = numpy.array([[34,43,73],[82,22,12],[53,94,66]])\n",
    "## newColumn = numpy.array([[10,10,10]])\n",
    "## Expected Output:\n",
    "## Printing Original array\n",
    "\n",
    "## [[34 43 73]\n",
    "## [82 22 12]\n",
    "## [53 94 66]]\n",
    "## Array after deleting column 2 on axis 1\n",
    "## [[34 73]\n",
    "## [82 12]\n",
    "## [53 66]]\n",
    "## Array after inserting column 2 on axis 1\n",
    "## [[34 10 73]\n",
    "## [82 10 12]\n",
    "## [53 10 66]]"
   ]
  },
  {
   "cell_type": "code",
   "execution_count": 88,
   "id": "19aebc7d",
   "metadata": {},
   "outputs": [
    {
     "name": "stdout",
     "output_type": "stream",
     "text": [
      "Printing original array\n",
      "[[34 43 73]\n",
      " [82 22 12]\n",
      " [53 94 66]]\n",
      "Array after deleting column 2 on axis 1\n",
      "[[34 73]\n",
      " [82 12]\n",
      " [53 66]]\n",
      "Array after inserting coloumn 2 on axis 1\n",
      "[[34 10 73]\n",
      " [82 10 12]\n",
      " [53 10 66]]\n"
     ]
    }
   ],
   "source": [
    "import numpy as np\n",
    "print(\"Printing original array\")\n",
    "sampleArray = np.array([[34,43,73],[82,22,12],[53,94,66]])\n",
    "print(sampleArray)\n",
    "print(\"Array after deleting column 2 on axis 1\")\n",
    "sampleArray = np.delete(sampleArray,1,1)\n",
    "print(sampleArray)\n",
    "newColumn = np.array([[10,10,10]])\n",
    "print(\"Array after inserting coloumn 2 on axis 1\")\n",
    "sampleArray = np.insert(sampleArray,1,newColumn,1)\n",
    "print(sampleArray)"
   ]
  },
  {
   "cell_type": "markdown",
   "id": "31d0437e",
   "metadata": {},
   "source": [
    "# Question 8:\n",
    "## Do the following vectors problem in Python coding.\n",
    "### a) A displacement vector in the xy plane is 7.3 m long and directed at angle of 30° in Fig.1. Determine (a) the x component and (b) the y component of the vector."
   ]
  },
  {
   "cell_type": "code",
   "execution_count": 92,
   "id": "e7ae8a91",
   "metadata": {},
   "outputs": [
    {
     "data": {
      "text/plain": [
       "(6.321985447626402, 3.6499999999999995)"
      ]
     },
     "execution_count": 92,
     "metadata": {},
     "output_type": "execute_result"
    }
   ],
   "source": [
    "import math as m\n",
    "def comp(M,angle):\n",
    "    angle = m.radians(angle)\n",
    "    x = M*m.cos(angle)\n",
    "    y = M*m.sin(angle)\n",
    "    return x,y\n",
    "comp(7.3,30)"
   ]
  },
  {
   "cell_type": "markdown",
   "id": "f5438a9f",
   "metadata": {},
   "source": [
    "### b) The two vectors a and b in Fig-2 have equal magnitudes of 10m and the angles are θ1= 30⁰ and θ1= 105⁰. Find the (a) x and y components of their vector sum r (b) the magnitude of r and (c) the angle r makes with the positive direction of the x axis."
   ]
  },
  {
   "cell_type": "code",
   "execution_count": 103,
   "id": "37520f2b",
   "metadata": {},
   "outputs": [],
   "source": [
    "import math as m\n",
    "def compX(M1,angle1,M2,angle2):\n",
    "    angle1 = m.radians(angle1)\n",
    "    angle2 = m.radians(angle2)\n",
    "    rx = (M1*m.cos(angle1))+(M2*m.cos(angle2))\n",
    "    return rx\n",
    "import math as m\n",
    "def compY(M1,angle1,M2,angle2):\n",
    "    angle1 = m.radians(angle1)\n",
    "    angle2 = m.radians(angle2)\n",
    "    ry = (M1*m.sin(angle1))+(M2*m.sin(angle2))\n",
    "    return ry\n",
    "def mag(rx,ry):\n",
    "    mag=m.sqrt((rx**2)+(ry**2))\n",
    "    return mag\n",
    "def direction()"
   ]
  },
  {
   "cell_type": "code",
   "execution_count": 113,
   "id": "5cc90777",
   "metadata": {},
   "outputs": [
    {
     "name": "stdout",
     "output_type": "stream",
     "text": [
      "The x component of their vector sum is....\n",
      "6.072063586819179\n",
      "The y component of their vector sum is.....\n",
      "14.659258262890681\n",
      "The magnitude of their vector sum is....\n",
      "15.867066805824702\n",
      "The angle of the resultant vector is.....\n",
      "67.5\n"
     ]
    }
   ],
   "source": [
    "print(\"The x component of their vector sum is....\")\n",
    "rx = compX(10,30,10,105)\n",
    "print(rx)\n",
    "\n",
    "print(\"The y component of their vector sum is.....\")\n",
    "ry = compY(10,30,10,105)\n",
    "print(ry)\n",
    "\n",
    "print(\"The magnitude of their vector sum is....\")\n",
    "print(mag(rx,ry))\n",
    "\n",
    "print(\"The angle of the resultant vector is.....\")\n",
    "angle = m.degrees(m.atan(ry/rx))\n",
    "print(angle)"
   ]
  },
  {
   "cell_type": "markdown",
   "id": "d25abdfb",
   "metadata": {},
   "source": [
    "### c) Three vectors a , b and c each have a magnitude of 50 m and lie in an xy plane. Their directions relative to the positive direction of the x axis are 30°, 195°, and 315°, respectively. What are (i) the magnitude and the angle of the vector a+b+c , and (ii) the magnitude and the angle of a-b+c? What are the (iii) magnitude and angle of a fourth vector d such that (a+b ) – (c+d) = 0 ?"
   ]
  },
  {
   "cell_type": "code",
   "execution_count": 168,
   "id": "c86a12b0",
   "metadata": {},
   "outputs": [],
   "source": [
    "import math as m\n",
    "\n",
    "Ax = 50*m.cos(30)\n",
    "Ay = 50*m.sin(30)\n",
    "\n",
    "Bx = 50*m.cos(195)\n",
    "By = 50*m.sin(195)\n",
    "\n",
    "Cx = 50*m.cos(315)\n",
    "Cy = 50*m.sin(315)\n"
   ]
  },
  {
   "cell_type": "code",
   "execution_count": 170,
   "id": "179cbcf6",
   "metadata": {},
   "outputs": [
    {
     "name": "stdout",
     "output_type": "stream",
     "text": [
      "The magnitude of a+b+c = 89.84713414901486\n",
      "The angle of a+b+c in degrees = 0.7475267308629887\n"
     ]
    }
   ],
   "source": [
    "# for a+b+c\n",
    "rx = Ax + Bx + Cx\n",
    "ry = Ay + By + Cy\n",
    "\n",
    "M= m.sqrt(rx**2 + ry**2)\n",
    "angle = m.degrees(m.acos(rx/M))\n",
    "\n",
    "print(\"The magnitude of a+b+c = \"+ str(M))\n",
    "print(\"The angle of a+b+c in degrees = \"+ str(angle))"
   ]
  },
  {
   "cell_type": "code",
   "execution_count": 171,
   "id": "317f8069",
   "metadata": {},
   "outputs": [
    {
     "name": "stdout",
     "output_type": "stream",
     "text": [
      "The magnitude of a+b+c = 24.373493243310303\n",
      "The angle of a+b+c in degrees = 108.47263452428393\n"
     ]
    }
   ],
   "source": [
    "# for a-b+c\n",
    "rx = Ax - Bx + Cx\n",
    "ry = Ay - By + Cy\n",
    "\n",
    "M= m.sqrt(rx**2 + ry**2)\n",
    "angle = m.degrees(m.acos(rx/M))\n",
    "\n",
    "print(\"The magnitude of a+b+c = \"+ str(M))\n",
    "print(\"The angle of a+b+c in degrees = \"+ str(angle))"
   ]
  },
  {
   "cell_type": "code",
   "execution_count": 172,
   "id": "8f6a93a5",
   "metadata": {},
   "outputs": [
    {
     "name": "stdout",
     "output_type": "stream",
     "text": [
      "The magnitude of a+b+c = 79.14621356611251\n",
      "The angle of a+b+c in degrees = 72.99408471375428\n"
     ]
    }
   ],
   "source": [
    "# for (a+b)-(c-d)=a+b-c-d\n",
    "# d=a+b-c\n",
    "rx = Ax + Bx - Cx\n",
    "ry = Ay + By - Cy\n",
    "\n",
    "M= m.sqrt(rx**2 + ry**2)\n",
    "angle = m.degrees(m.acos(rx/M))\n",
    "\n",
    "print(\"The magnitude of a+b+c = \"+ str(M))\n",
    "print(\"The angle of a+b+c in degrees = \"+ str(angle))"
   ]
  },
  {
   "cell_type": "markdown",
   "id": "b3c31deb",
   "metadata": {},
   "source": [
    "### d) Find the angle between the vector A= 2i -3j+5k and the x, y,and z axes, respectively."
   ]
  },
  {
   "cell_type": "code",
   "execution_count": 174,
   "id": "1c2ea3ad",
   "metadata": {},
   "outputs": [],
   "source": [
    "import math as m\n",
    "M = m.sqrt(2**2+3**2+5**2)\n"
   ]
  },
  {
   "cell_type": "code",
   "execution_count": 176,
   "id": "88d0c8f9",
   "metadata": {},
   "outputs": [
    {
     "data": {
      "text/plain": [
       "71.06817681913482"
      ]
     },
     "execution_count": 176,
     "metadata": {},
     "output_type": "execute_result"
    }
   ],
   "source": [
    "A_x = m.degrees(m.acos(2/M))\n",
    "A_x"
   ]
  },
  {
   "cell_type": "code",
   "execution_count": 178,
   "id": "e74918b2",
   "metadata": {},
   "outputs": [
    {
     "data": {
      "text/plain": [
       "119.12156807035144"
      ]
     },
     "execution_count": 178,
     "metadata": {},
     "output_type": "execute_result"
    }
   ],
   "source": [
    "A_y = m.degrees(m.acos(-3/M))\n",
    "A_y"
   ]
  },
  {
   "cell_type": "code",
   "execution_count": 179,
   "id": "509881e5",
   "metadata": {},
   "outputs": [
    {
     "data": {
      "text/plain": [
       "35.795759914707084"
      ]
     },
     "execution_count": 179,
     "metadata": {},
     "output_type": "execute_result"
    }
   ],
   "source": [
    "A_z = m.degrees(m.acos(5/M))\n",
    "A_z"
   ]
  },
  {
   "cell_type": "markdown",
   "id": "8ea265dc",
   "metadata": {},
   "source": [
    "### e) Calculate the angle between “r” and the positive z-axis. (c) Find the angle between “a” and “b”. where, a = 5i +4j -6k , b= -2i +2j+3k and c = 4i+3j+2k , r = a+b+c."
   ]
  },
  {
   "cell_type": "code",
   "execution_count": 188,
   "id": "f877ca78",
   "metadata": {},
   "outputs": [
    {
     "name": "stdout",
     "output_type": "stream",
     "text": [
      "Angle between a & b = 133.13843761967107\n",
      "Angle between r and z axis = 95.05115252801794\n"
     ]
    }
   ],
   "source": [
    "import math as m\n",
    "m_a = m.sqrt(5**2+4**2+6**2)\n",
    "m_b = m.sqrt(-2**2+2**2+3**2)\n",
    "z = (m_a)*(m_b)\n",
    "angle_ab = m.degrees(m.acos(-18 / z ))\n",
    "print(\"Angle between a & b = \"+ str(angle_ab))\n",
    "m_r = m.sqrt(((7**2)+(9**2)+(-1**2)))\n",
    "angle_rz = m.degrees(m.acos(-1/m_r))\n",
    "print(\"Angle between r and z axis = \"+ str(angle_rz))"
   ]
  },
  {
   "cell_type": "markdown",
   "id": "c81c0a7b",
   "metadata": {},
   "source": [
    "# Finished"
   ]
  },
  {
   "cell_type": "code",
   "execution_count": null,
   "id": "249fc06f",
   "metadata": {},
   "outputs": [],
   "source": []
  }
 ],
 "metadata": {
  "kernelspec": {
   "display_name": "Python 3",
   "language": "python",
   "name": "python3"
  },
  "language_info": {
   "codemirror_mode": {
    "name": "ipython",
    "version": 3
   },
   "file_extension": ".py",
   "mimetype": "text/x-python",
   "name": "python",
   "nbconvert_exporter": "python",
   "pygments_lexer": "ipython3",
   "version": "3.8.8"
  }
 },
 "nbformat": 4,
 "nbformat_minor": 5
}
