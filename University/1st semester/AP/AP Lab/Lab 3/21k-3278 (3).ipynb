{
 "cells": [
  {
   "cell_type": "code",
   "execution_count": 4,
   "id": "a3271fce",
   "metadata": {},
   "outputs": [],
   "source": [
    "import math as m\n",
    "import numpy as n\n",
    "\n",
    "def x_comp(mag,angle):\n",
    "    ang =m.radians(angle)\n",
    "    x = mag*(m.cos(ang))\n",
    "    return x\n",
    "\n",
    "def y_comp(mag,angle):\n",
    "    ang =m.radians(angle)\n",
    "    y = mag*(m.sin(ang))\n",
    "    return y\n",
    "\n",
    "def magnitude(x,y):\n",
    "    mag = m.sqrt((x**2+y**2))\n",
    "    return mag\n",
    "\n",
    "def dot(a, b, angle):\n",
    "    ang =m.radians(angle)\n",
    "    product = (a*b)*(m.cos(ang))\n",
    "    return product\n",
    "\n",
    "def cross(a, b, angle):\n",
    "    ang =m.radians(angle)\n",
    "    product = (a*b)*(m.sin(ang))\n",
    "    return product\n",
    "\n",
    "def tan_angle(x, y):\n",
    "    pi = 3.14\n",
    "    radians = m.atan(y/x)\n",
    "    degree = radians*(180/pi)\n",
    "    return degree\n",
    "\n",
    "def cos_angle(x,y):\n",
    "    pi = 3.14\n",
    "    radians = m.acos(x/y)\n",
    "    degree = radians*(180/pi)\n",
    "    return degree"
   ]
  },
  {
   "cell_type": "markdown",
   "id": "d7eacd53",
   "metadata": {},
   "source": [
    "#  VECTORS"
   ]
  },
  {
   "cell_type": "markdown",
   "id": "c6692fdc",
   "metadata": {},
   "source": [
    "# 1. A displacement vector in the xy plane is 7.3 m long and directed at angle of 30° in Fig.1. Determine (a) the x component and (b) the y component of the vector."
   ]
  },
  {
   "cell_type": "code",
   "execution_count": 2,
   "id": "e86819d9",
   "metadata": {},
   "outputs": [
    {
     "name": "stdout",
     "output_type": "stream",
     "text": [
      "X-COMPONENT\n"
     ]
    },
    {
     "data": {
      "text/plain": [
       "6.321985447626402"
      ]
     },
     "execution_count": 2,
     "metadata": {},
     "output_type": "execute_result"
    }
   ],
   "source": [
    "print(\"X-COMPONENT\")\n",
    "x_comp(7.3,30)"
   ]
  },
  {
   "cell_type": "code",
   "execution_count": 3,
   "id": "fbfd45fd",
   "metadata": {},
   "outputs": [
    {
     "name": "stdout",
     "output_type": "stream",
     "text": [
      "Y-COMPONENT\n"
     ]
    },
    {
     "data": {
      "text/plain": [
       "3.6499999999999995"
      ]
     },
     "execution_count": 3,
     "metadata": {},
     "output_type": "execute_result"
    }
   ],
   "source": [
    "print(\"Y-COMPONENT\")\n",
    "y_comp(7.3,30)"
   ]
  },
  {
   "cell_type": "markdown",
   "id": "65de4d86",
   "metadata": {},
   "source": [
    "## 2. The two vectors a and b in Fig-2 have equal magnitudes of 10m and the angles are θ1= 30 and θ1= 105Find the (a) x and y components of their vector sum r (b) the magnitude of r and (c) the angle r makes with the positive direction of the x axis"
   ]
  },
  {
   "cell_type": "code",
   "execution_count": 7,
   "id": "fb1ec957",
   "metadata": {},
   "outputs": [
    {
     "name": "stdout",
     "output_type": "stream",
     "text": [
      "First Vector x-xcomponent\n",
      "8.660254037844387\n",
      "First Vector y-xcomponent\n",
      "4.999999999999999\n",
      "Second Vector x-xcomponent\n",
      "-7.071067811865475\n",
      "Second Vector y-xcomponent\n",
      "7.0710678118654755\n"
     ]
    }
   ],
   "source": [
    "a = 10\n",
    "b = 10\n",
    "\n",
    "ang1 = 30\n",
    "ang2 = ang1+105\n",
    "\n",
    "print(\"First Vector x-xcomponent\")\n",
    "x1 = x_comp(a,ang1)\n",
    "print(x1)\n",
    "print(\"First Vector y-xcomponent\")\n",
    "y1 = y_comp(a,ang1)\n",
    "print(y1)\n",
    "print(\"Second Vector x-xcomponent\")\n",
    "x2 = x_comp(b,ang2)\n",
    "print(x2)\n",
    "print(\"Second Vector y-xcomponent\")\n",
    "y2 = y_comp(b,ang2)\n",
    "print(y2)"
   ]
  },
  {
   "cell_type": "code",
   "execution_count": 8,
   "id": "c933631b",
   "metadata": {},
   "outputs": [
    {
     "name": "stdout",
     "output_type": "stream",
     "text": [
      "x-component of Vector R\n",
      "1.5891862259789127\n",
      "x-component of Vector R\n",
      "12.071067811865476\n"
     ]
    }
   ],
   "source": [
    "print(\"x-component of Vector R\")\n",
    "x = x1+x2\n",
    "print(x)\n",
    "print(\"x-component of Vector R\")\n",
    "y = y1+y2\n",
    "print(y)"
   ]
  },
  {
   "cell_type": "code",
   "execution_count": 9,
   "id": "b5b7ab58",
   "metadata": {},
   "outputs": [
    {
     "name": "stdout",
     "output_type": "stream",
     "text": [
      "Magnitude Of Resultant Vector\n",
      "12.175228580174414\n"
     ]
    }
   ],
   "source": [
    "print(\"Magnitude Of Resultant Vector\")\n",
    "a = magnitude(x,y)\n",
    "print(a)"
   ]
  },
  {
   "cell_type": "code",
   "execution_count": 10,
   "id": "da92dab2",
   "metadata": {},
   "outputs": [
    {
     "name": "stdout",
     "output_type": "stream",
     "text": [
      "Angle of R-vector with positive x-axis\n",
      "In Degrees: 82.54184519782099\n"
     ]
    }
   ],
   "source": [
    "print(\"Angle of R-vector with positive x-axis\")\n",
    "degree = tan_angle(x,y)\n",
    "print(\"In Degrees:\",degree)"
   ]
  },
  {
   "cell_type": "markdown",
   "id": "503f0c2a-e03e-4f27-83aa-aabc1dd3cae7",
   "metadata": {},
   "source": [
    "## 3. For the vectors in Fig. 3, with a = 4, b = 3, and c = 5, what are (a) the magnitude and the direction of a X b , (b) the magnitude and) the direction of a X c , and (c) the magnitude and the direction of b X c ?"
   ]
  },
  {
   "cell_type": "code",
   "execution_count": 9,
   "id": "07088789-d073-4714-97b3-98859ee2b0ab",
   "metadata": {},
   "outputs": [
    {
     "name": "stdout",
     "output_type": "stream",
     "text": [
      "a x b is:\n"
     ]
    },
    {
     "data": {
      "text/plain": [
       "array([ 0,  0, 12])"
      ]
     },
     "execution_count": 9,
     "metadata": {},
     "output_type": "execute_result"
    }
   ],
   "source": [
    "print(\"a x b is:\")\n",
    "a = [4, 0, 0]\n",
    "b = [0, 3, 0]\n",
    "c = [4, 3, 0]\n",
    "n.cross(a, b)"
   ]
  },
  {
   "cell_type": "code",
   "execution_count": 10,
   "id": "eaa0bf03-b230-4389-8caf-ec524cd1c851",
   "metadata": {},
   "outputs": [
    {
     "name": "stdout",
     "output_type": "stream",
     "text": [
      "a x c is:\n"
     ]
    },
    {
     "data": {
      "text/plain": [
       "array([ 0,  0, 12])"
      ]
     },
     "execution_count": 10,
     "metadata": {},
     "output_type": "execute_result"
    }
   ],
   "source": [
    "print(\"a x c is:\")\n",
    "n.cross(a, c)"
   ]
  },
  {
   "cell_type": "code",
   "execution_count": 11,
   "id": "3e11968d-e861-41ca-9078-22c0e7a8aa1d",
   "metadata": {},
   "outputs": [
    {
     "name": "stdout",
     "output_type": "stream",
     "text": [
      "b x c is:\n"
     ]
    },
    {
     "data": {
      "text/plain": [
       "array([  0,   0, -12])"
      ]
     },
     "execution_count": 11,
     "metadata": {},
     "output_type": "execute_result"
    }
   ],
   "source": [
    "print(\"b x c is:\")\n",
    "n.cross(b, c)"
   ]
  },
  {
   "cell_type": "markdown",
   "id": "56e86662-8b66-471a-a58e-ab8d5d97d6d0",
   "metadata": {},
   "source": [
    "## 4. By Considering the above problem -2 find the (a) a . b (b) a X b (c) angle between a and b"
   ]
  },
  {
   "cell_type": "code",
   "execution_count": 11,
   "id": "ec0c90cc-5540-4877-a038-a06e0601154b",
   "metadata": {},
   "outputs": [
    {
     "name": "stdout",
     "output_type": "stream",
     "text": [
      "dot prodct:  25.881904510252074\n",
      "cross product:  96.59258262890683\n"
     ]
    }
   ],
   "source": [
    "a = 10\n",
    "b = 10\n",
    "\n",
    "ang1 = 30\n",
    "ang2 = 105\n",
    "\n",
    "r_angle = ang2-ang1\n",
    "\n",
    "print(\"dot prodct: \",dot(a, b, r_angle))\n",
    "print(\"cross product: \",cross(a, b, ang2))"
   ]
  },
  {
   "cell_type": "markdown",
   "id": "192e28ae-aa8c-422d-9a2e-9a206322c65b",
   "metadata": {},
   "source": [
    "## 5. The x component of vector A is 25.0 m and the y component is 40.0 m. (a) What is the magnitude of A (b) What is the angle between the direction of and the positive direction of x?"
   ]
  },
  {
   "cell_type": "code",
   "execution_count": 12,
   "id": "3509ae2f-c890-4033-a0ad-661bcbe0770d",
   "metadata": {},
   "outputs": [
    {
     "name": "stdout",
     "output_type": "stream",
     "text": [
      "Magnitude of A\n",
      "47.16990566028302\n",
      "Angle of A with x_axis\n",
      "58.02403250357966\n"
     ]
    }
   ],
   "source": [
    "x = 25.0\n",
    "y = 40.0\n",
    "print(\"Magnitude of A\")\n",
    "print(magnitude(x,y))\n",
    "print(\"Angle of A with x_axis\")\n",
    "print(angle(x,y))"
   ]
  },
  {
   "cell_type": "markdown",
   "id": "39ee78d9",
   "metadata": {},
   "source": [
    "## 6. A ship sets out to sail to a point 120 km due north. An unexpected storm blows the ship to a point 100 km due east of its starting point. (a) How far and (b) in what direction must it now sail to reach its original destination?"
   ]
  },
  {
   "cell_type": "code",
   "execution_count": 20,
   "id": "6a21633c",
   "metadata": {},
   "outputs": [
    {
     "name": "stdout",
     "output_type": "stream",
     "text": [
      "Hypotenus is: 156.20499351813308\n",
      "therefoe Cos(theta) = B/H\n",
      "129.78011174914815\n"
     ]
    }
   ],
   "source": [
    "a = 100\n",
    "b = 120\n",
    "\n",
    "c = magnitude(a,b)\n",
    "print(\"Hypotenus is:\",c)\n",
    "print(\"therefoe Cos(theta) = B/H\")\n",
    "theta = cos_angle(a, c)\n",
    "angle = 180-theta\n",
    "print(angle)"
   ]
  },
  {
   "cell_type": "markdown",
   "id": "6da5b5ed",
   "metadata": {},
   "source": [
    "## 7. Three vectors a , b and c each have a magnitude of 50 m and lie in an xy plane. Their directions relative to the positive direction of the x axis are 30°, 195°, and 315°, respectively. What are (i) the magnitude and the angle of the vector a+b+c , and (ii) the magnitude and the angle of a-b+c? What are the (iii) magnitude and angle of a fourth vector d such that (a+b ) – (c+d) = 0 ?"
   ]
  },
  {
   "cell_type": "code",
   "execution_count": 16,
   "id": "2c71fa90",
   "metadata": {},
   "outputs": [
    {
     "name": "stdout",
     "output_type": "stream",
     "text": [
      "components of A\n",
      "x-component is: 43.30127018922194\n",
      "y-component is: 24.999999999999996\n",
      "components of B\n",
      "x-component is: -48.29629131445341\n",
      "y-component is: -12.94095225512604\n",
      "components of C\n",
      "x-component is: 35.35533905932737\n",
      "y-component is: -35.355339059327385\n",
      "\n",
      "For (a+b+c) \n",
      "\n",
      "X-component of Resultant Vector is: 30.360317934095896\n",
      "X-component of Resultant Vector is: -23.296291314453427\n",
      "\n",
      "Magnitude of Resultant Vector is:  38.26834323650899\n",
      "\n",
      "Angle of Resultant Vector is:  -37.519020544464105\n"
     ]
    }
   ],
   "source": [
    "a = b = c = 50\n",
    "ang1 = 30\n",
    "ang2 = 195\n",
    "ang3 = 315\n",
    "print(\"components of A\")\n",
    "Ax = x_comp(a,ang1)\n",
    "print(\"x-component is:\",Ax)\n",
    "Ay = y_comp(a,ang1)\n",
    "print(\"y-component is:\",Ay)\n",
    "print(\"components of B\")\n",
    "Bx = x_comp(b,ang2)\n",
    "print(\"x-component is:\",Bx)\n",
    "By = y_comp(b,ang2)\n",
    "print(\"y-component is:\",By)\n",
    "print(\"components of C\")\n",
    "Cx = x_comp(c,ang3)\n",
    "print(\"x-component is:\",Cx)\n",
    "Cy = y_comp(c,ang3)\n",
    "print(\"y-component is:\",Cy)\n",
    "\n",
    "print(\"\\nFor (a+b+c) \")\n",
    "\n",
    "Rx = Ax+Bx+Cx\n",
    "print(\"\\nX-component of Resultant Vector is:\",Rx)\n",
    "\n",
    "Ry = Ay+By+Cy\n",
    "print(\"X-component of Resultant Vector is:\",Ry)\n",
    "\n",
    "R = magnitude(Rx, Ry)\n",
    "print(\"\\nMagnitude of Resultant Vector is: \",R)\n",
    "\n",
    "angle = tan_angle(Rx, Ry)\n",
    "print(\"\\nAngle of Resultant Vector is: \",angle)"
   ]
  },
  {
   "cell_type": "code",
   "execution_count": 17,
   "id": "39cbdaff",
   "metadata": {},
   "outputs": [
    {
     "name": "stdout",
     "output_type": "stream",
     "text": [
      "\n",
      "For (a-b+c) \n",
      "\n",
      "X-component of Resultant Vector is: 126.95290056300271\n",
      "X-component of Resultant Vector is: 2.5856131957986506\n",
      "\n",
      "Magnitude of Resultant Vector is:  126.97922805308725\n",
      "\n",
      "Angle of Resultant Vector is:  1.1673571470670452\n"
     ]
    }
   ],
   "source": [
    "print(\"\\nFor (a-b+c) \")\n",
    "\n",
    "Rx = Ax-Bx+Cx\n",
    "print(\"\\nX-component of Resultant Vector is:\",Rx)\n",
    "\n",
    "Ry = Ay-By+Cy\n",
    "print(\"X-component of Resultant Vector is:\",Ry)\n",
    "\n",
    "R = magnitude(Rx, Ry)\n",
    "print(\"\\nMagnitude of Resultant Vector is: \",R)\n",
    "\n",
    "angle = tan_angle(Rx, Ry)\n",
    "print(\"\\nAngle of Resultant Vector is: \",angle)"
   ]
  },
  {
   "cell_type": "code",
   "execution_count": 18,
   "id": "d78da93f",
   "metadata": {},
   "outputs": [
    {
     "name": "stdout",
     "output_type": "stream",
     "text": [
      "\n",
      "For (a+b-c) = d; Find d \n",
      "\n",
      "X-component of Resultant Vector is: -40.350360184558845\n",
      "X-component of Resultant Vector is: 47.41438680420134\n",
      "\n",
      "Magnitude of Resultant Vector is:  62.25974335830541\n",
      "\n",
      "Angle of Resultant Vector is:  -49.626872879261136\n"
     ]
    }
   ],
   "source": [
    "print(\"\\nFor (a+b-c) = d; Find d \")\n",
    "\n",
    "Rx = Ax+Bx-Cx\n",
    "print(\"\\nX-component of Resultant Vector is:\",Rx)\n",
    "\n",
    "Ry = Ay+By-Cy\n",
    "print(\"X-component of Resultant Vector is:\",Ry)\n",
    "\n",
    "R = magnitude(Rx, Ry)\n",
    "print(\"\\nMagnitude of Resultant Vector is: \",R)\n",
    "\n",
    "angle = tan_angle(Rx, Ry)\n",
    "print(\"\\nAngle of Resultant Vector is: \",angle)"
   ]
  },
  {
   "cell_type": "markdown",
   "id": "2c0d1e09",
   "metadata": {},
   "source": [
    "## 10. Vector A has a magnitude of 6 units, vector B has a magnitude of 7 units, and A.B has a value of 14. What is the angle between the direction of A and B?"
   ]
  },
  {
   "cell_type": "code",
   "execution_count": 23,
   "id": "3d9e463c",
   "metadata": {},
   "outputs": [
    {
     "name": "stdout",
     "output_type": "stream",
     "text": [
      "We know A.B = |A||B|Cos(theta)\n",
      "Angle between A and B is:  70.56455258641384\n"
     ]
    }
   ],
   "source": [
    "a = 6\n",
    "b = 7\n",
    "\n",
    "dot = 14\n",
    "\n",
    "\n",
    "print(\"We know A.B = |A||B|Cos(theta)\")\n",
    "degree = cos_angle(dot,(a*b))\n",
    "print(\"Angle between A and B is: \",degree)"
   ]
  },
  {
   "cell_type": "code",
   "execution_count": null,
   "id": "6d1165c6",
   "metadata": {},
   "outputs": [],
   "source": []
  }
 ],
 "metadata": {
  "kernelspec": {
   "display_name": "Python 3",
   "language": "python",
   "name": "python3"
  },
  "language_info": {
   "codemirror_mode": {
    "name": "ipython",
    "version": 3
   },
   "file_extension": ".py",
   "mimetype": "text/x-python",
   "name": "python",
   "nbconvert_exporter": "python",
   "pygments_lexer": "ipython3",
   "version": "3.8.8"
  }
 },
 "nbformat": 4,
 "nbformat_minor": 5
}
